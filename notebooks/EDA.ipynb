{
 "cells": [
  {
   "cell_type": "markdown",
   "id": "bdcc839f",
   "metadata": {},
   "source": [
    "### Import Libraries and Load Data"
   ]
  },
  {
   "cell_type": "code",
   "execution_count": 11,
   "id": "097faa1a",
   "metadata": {},
   "outputs": [
    {
     "name": "stdout",
     "output_type": "stream",
     "text": [
      "Data loaded successfully!\n"
     ]
    },
    {
     "data": {
      "text/html": [
       "<div>\n",
       "<style scoped>\n",
       "    .dataframe tbody tr th:only-of-type {\n",
       "        vertical-align: middle;\n",
       "    }\n",
       "\n",
       "    .dataframe tbody tr th {\n",
       "        vertical-align: top;\n",
       "    }\n",
       "\n",
       "    .dataframe thead th {\n",
       "        text-align: right;\n",
       "    }\n",
       "</style>\n",
       "<table border=\"1\" class=\"dataframe\">\n",
       "  <thead>\n",
       "    <tr style=\"text-align: right;\">\n",
       "      <th></th>\n",
       "      <th>Session_ID</th>\n",
       "      <th>IP</th>\n",
       "      <th>TimeStamp</th>\n",
       "      <th>Event</th>\n",
       "      <th>Page_URL</th>\n",
       "      <th>Method</th>\n",
       "      <th>Response</th>\n",
       "      <th>Bytes_Sent</th>\n",
       "      <th>Referrer_URL</th>\n",
       "      <th>User_Agent</th>\n",
       "    </tr>\n",
       "  </thead>\n",
       "  <tbody>\n",
       "    <tr>\n",
       "      <th>0</th>\n",
       "      <td>1000US_1</td>\n",
       "      <td>1000US</td>\n",
       "      <td>2019-12-11 09:07:42+00:00</td>\n",
       "      <td>Product_View</td>\n",
       "      <td>/p-2100.html</td>\n",
       "      <td>GET</td>\n",
       "      <td>200</td>\n",
       "      <td>14036</td>\n",
       "      <td>-</td>\n",
       "      <td>Mozilla/5.0 (Windows NT 6.1; WOW64) AppleWebKi...</td>\n",
       "    </tr>\n",
       "    <tr>\n",
       "      <th>1</th>\n",
       "      <td>1001PL_1</td>\n",
       "      <td>1001PL</td>\n",
       "      <td>2019-12-11 09:07:43+00:00</td>\n",
       "      <td>Info_Page_View</td>\n",
       "      <td>/inne/informacja_online.php</td>\n",
       "      <td>POST</td>\n",
       "      <td>200</td>\n",
       "      <td>0</td>\n",
       "      <td>https://shop.our-internet-company.pl/p-4267.ht...</td>\n",
       "      <td>Mozilla/5.0 (Windows NT 10.0; Win64; x64) Appl...</td>\n",
       "    </tr>\n",
       "    <tr>\n",
       "      <th>2</th>\n",
       "      <td>1001PL_2</td>\n",
       "      <td>1001PL</td>\n",
       "      <td>2019-12-11 11:50:34+00:00</td>\n",
       "      <td>Info_Page_View</td>\n",
       "      <td>/inne/informacja_online.php</td>\n",
       "      <td>POST</td>\n",
       "      <td>200</td>\n",
       "      <td>0</td>\n",
       "      <td>https://shop.our-internet-company.pl/p-4267.ht...</td>\n",
       "      <td>Mozilla/5.0 (Windows NT 10.0; Win64; x64) Appl...</td>\n",
       "    </tr>\n",
       "    <tr>\n",
       "      <th>3</th>\n",
       "      <td>1001PL_2</td>\n",
       "      <td>1001PL</td>\n",
       "      <td>2019-12-11 11:51:38+00:00</td>\n",
       "      <td>Info_Page_View</td>\n",
       "      <td>/inne/informacja_online.php</td>\n",
       "      <td>POST</td>\n",
       "      <td>200</td>\n",
       "      <td>0</td>\n",
       "      <td>https://shop.our-internet-company.pl/p-4267.ht...</td>\n",
       "      <td>Mozilla/5.0 (Windows NT 10.0; Win64; x64) Appl...</td>\n",
       "    </tr>\n",
       "    <tr>\n",
       "      <th>4</th>\n",
       "      <td>1001PL_2</td>\n",
       "      <td>1001PL</td>\n",
       "      <td>2019-12-11 11:52:45+00:00</td>\n",
       "      <td>Info_Page_View</td>\n",
       "      <td>/inne/informacja_online.php</td>\n",
       "      <td>POST</td>\n",
       "      <td>200</td>\n",
       "      <td>0</td>\n",
       "      <td>https://shop.our-internet-company.pl/p-4267.ht...</td>\n",
       "      <td>Mozilla/5.0 (Windows NT 10.0; Win64; x64) Appl...</td>\n",
       "    </tr>\n",
       "  </tbody>\n",
       "</table>\n",
       "</div>"
      ],
      "text/plain": [
       "  Session_ID      IP                 TimeStamp           Event  \\\n",
       "0   1000US_1  1000US 2019-12-11 09:07:42+00:00    Product_View   \n",
       "1   1001PL_1  1001PL 2019-12-11 09:07:43+00:00  Info_Page_View   \n",
       "2   1001PL_2  1001PL 2019-12-11 11:50:34+00:00  Info_Page_View   \n",
       "3   1001PL_2  1001PL 2019-12-11 11:51:38+00:00  Info_Page_View   \n",
       "4   1001PL_2  1001PL 2019-12-11 11:52:45+00:00  Info_Page_View   \n",
       "\n",
       "                      Page_URL Method  Response  Bytes_Sent  \\\n",
       "0                 /p-2100.html    GET       200       14036   \n",
       "1  /inne/informacja_online.php   POST       200           0   \n",
       "2  /inne/informacja_online.php   POST       200           0   \n",
       "3  /inne/informacja_online.php   POST       200           0   \n",
       "4  /inne/informacja_online.php   POST       200           0   \n",
       "\n",
       "                                        Referrer_URL  \\\n",
       "0                                                  -   \n",
       "1  https://shop.our-internet-company.pl/p-4267.ht...   \n",
       "2  https://shop.our-internet-company.pl/p-4267.ht...   \n",
       "3  https://shop.our-internet-company.pl/p-4267.ht...   \n",
       "4  https://shop.our-internet-company.pl/p-4267.ht...   \n",
       "\n",
       "                                          User_Agent  \n",
       "0  Mozilla/5.0 (Windows NT 6.1; WOW64) AppleWebKi...  \n",
       "1  Mozilla/5.0 (Windows NT 10.0; Win64; x64) Appl...  \n",
       "2  Mozilla/5.0 (Windows NT 10.0; Win64; x64) Appl...  \n",
       "3  Mozilla/5.0 (Windows NT 10.0; Win64; x64) Appl...  \n",
       "4  Mozilla/5.0 (Windows NT 10.0; Win64; x64) Appl...  "
      ]
     },
     "execution_count": 11,
     "metadata": {},
     "output_type": "execute_result"
    }
   ],
   "source": [
    "import pandas as pd\n",
    "import matplotlib.pyplot as plt\n",
    "import seaborn as sns\n",
    "\n",
    "# Load the dataset\n",
    "df = pd.read_csv(r'E:\\Major Project\\User behaviour analysis using server logs\\data\\processed_logs\\event_logs.csv')\n",
    "df['TimeStamp'] = pd.to_datetime(df['TimeStamp'])\n",
    "\n",
    "print(\"Data loaded successfully!\")\n",
    "df.head()"
   ]
  },
  {
   "cell_type": "markdown",
   "id": "4856ea63",
   "metadata": {},
   "source": [
    "### Cell 2: Basic Data Overview"
   ]
  },
  {
   "cell_type": "code",
   "execution_count": 12,
   "id": "eebf1978",
   "metadata": {},
   "outputs": [
    {
     "name": "stdout",
     "output_type": "stream",
     "text": [
      "Dataset Info:\n",
      "<class 'pandas.core.frame.DataFrame'>\n",
      "RangeIndex: 94450 entries, 0 to 94449\n",
      "Data columns (total 10 columns):\n",
      " #   Column        Non-Null Count  Dtype              \n",
      "---  ------        --------------  -----              \n",
      " 0   Session_ID    94450 non-null  object             \n",
      " 1   IP            94450 non-null  object             \n",
      " 2   TimeStamp     94450 non-null  datetime64[ns, UTC]\n",
      " 3   Event         94450 non-null  object             \n",
      " 4   Page_URL      94450 non-null  object             \n",
      " 5   Method        94450 non-null  object             \n",
      " 6   Response      94450 non-null  int64              \n",
      " 7   Bytes_Sent    94450 non-null  int64              \n",
      " 8   Referrer_URL  94450 non-null  object             \n",
      " 9   User_Agent    94450 non-null  object             \n",
      "dtypes: datetime64[ns, UTC](1), int64(2), object(7)\n",
      "memory usage: 7.2+ MB\n",
      "None\n",
      "\n",
      "Basic Statistics:\n",
      "       Session_ID     IP                            TimeStamp           Event  \\\n",
      "count       94450  94450                                94450           94450   \n",
      "unique       7785   2115                                  NaN               4   \n",
      "top      1280PL_2  950PL                                  NaN  Info_Page_View   \n",
      "freq         2322   3677                                  NaN           53702   \n",
      "mean          NaN    NaN  2019-12-11 13:34:52.551042816+00:00             NaN   \n",
      "min           NaN    NaN            2019-12-10 23:00:00+00:00             NaN   \n",
      "25%           NaN    NaN            2019-12-11 09:38:41+00:00             NaN   \n",
      "50%           NaN    NaN     2019-12-11 13:49:59.500000+00:00             NaN   \n",
      "75%           NaN    NaN            2019-12-11 18:25:52+00:00             NaN   \n",
      "max           NaN    NaN            2019-12-11 22:59:59+00:00             NaN   \n",
      "std           NaN    NaN                                  NaN             NaN   \n",
      "\n",
      "                           Page_URL Method  Response     Bytes_Sent  \\\n",
      "count                         94450  94450   94450.0   94450.000000   \n",
      "unique                         7021      3       NaN            NaN   \n",
      "top     /inne/informacja_online.php   POST       NaN            NaN   \n",
      "freq                          53702  61150       NaN            NaN   \n",
      "mean                            NaN    NaN     200.0    6560.727782   \n",
      "min                             NaN    NaN     200.0       0.000000   \n",
      "25%                             NaN    NaN     200.0       0.000000   \n",
      "50%                             NaN    NaN     200.0       0.000000   \n",
      "75%                             NaN    NaN     200.0   14030.000000   \n",
      "max                             NaN    NaN     200.0  328974.000000   \n",
      "std                             NaN    NaN       0.0   10710.914236   \n",
      "\n",
      "                                            Referrer_URL  \\\n",
      "count                                              94450   \n",
      "unique                                              3274   \n",
      "top     https://shop.our-internet-company.pl/koszyk.html   \n",
      "freq                                                4751   \n",
      "mean                                                 NaN   \n",
      "min                                                  NaN   \n",
      "25%                                                  NaN   \n",
      "50%                                                  NaN   \n",
      "75%                                                  NaN   \n",
      "max                                                  NaN   \n",
      "std                                                  NaN   \n",
      "\n",
      "                                               User_Agent  \n",
      "count                                               94450  \n",
      "unique                                                881  \n",
      "top     Mozilla/5.0 (Windows NT 10.0; Win64; x64; rv:7...  \n",
      "freq                                                13273  \n",
      "mean                                                  NaN  \n",
      "min                                                   NaN  \n",
      "25%                                                   NaN  \n",
      "50%                                                   NaN  \n",
      "75%                                                   NaN  \n",
      "max                                                   NaN  \n",
      "std                                                   NaN  \n",
      "\n",
      "Missing Values:\n",
      "Session_ID      0\n",
      "IP              0\n",
      "TimeStamp       0\n",
      "Event           0\n",
      "Page_URL        0\n",
      "Method          0\n",
      "Response        0\n",
      "Bytes_Sent      0\n",
      "Referrer_URL    0\n",
      "User_Agent      0\n",
      "dtype: int64\n"
     ]
    }
   ],
   "source": [
    "# Summary statistics\n",
    "print(\"Dataset Info:\")\n",
    "print(df.info())\n",
    "print(\"\\nBasic Statistics:\")\n",
    "print(df.describe(include='all'))\n",
    "\n",
    "# Check for missing values\n",
    "print(\"\\nMissing Values:\")\n",
    "print(df.isnull().sum())"
   ]
  },
  {
   "cell_type": "markdown",
   "id": "9f16c66e",
   "metadata": {},
   "source": [
    "### Session Duration Analysis"
   ]
  },
  {
   "cell_type": "code",
   "execution_count": 13,
   "id": "484b8c4c",
   "metadata": {},
   "outputs": [
    {
     "data": {
      "image/png": "[encoded data removed]",
      "text/plain": [
       "<Figure size 1000x600 with 1 Axes>"
      ]
     },
     "metadata": {},
     "output_type": "display_data"
    },
    {
     "name": "stdout",
     "output_type": "stream",
     "text": [
      "Session Duration Statistics:\n",
      "count    7785.000000\n",
      "mean        4.853235\n",
      "std        37.371016\n",
      "min         0.000000\n",
      "25%         0.000000\n",
      "50%         0.000000\n",
      "75%         0.116667\n",
      "max      1053.900000\n",
      "Name: Duration_Minutes, dtype: float64\n"
     ]
    }
   ],
   "source": [
    "# Calculate session durations\n",
    "session_duration = df.groupby('Session_ID')['TimeStamp'].agg(lambda x: (x.max() - x.min()).total_seconds() / 60).reset_index()\n",
    "session_duration.columns = ['Session_ID', 'Duration_Minutes']\n",
    "\n",
    "# Histogram\n",
    "plt.figure(figsize=(10, 6))\n",
    "sns.histplot(data=session_duration, x='Duration_Minutes', bins=50, kde=True)\n",
    "plt.title('Session Duration Distribution (Minutes)')\n",
    "plt.xlabel('Duration (Minutes)')\n",
    "plt.ylabel('Number of Sessions')\n",
    "plt.savefig(r'E:\\Major Project\\User behaviour analysis using server logs\\reports\\session_duration_histogram.png')\n",
    "plt.show()\n",
    "\n",
    "# Statistics\n",
    "duration_stats = session_duration['Duration_Minutes'].describe()\n",
    "print(\"Session Duration Statistics:\")\n",
    "print(duration_stats)"
   ]
  },
  {
   "cell_type": "markdown",
   "id": "ead5d845",
   "metadata": {},
   "source": [
    "### Event Sequence Length Analysis"
   ]
  },
  {
   "cell_type": "code",
   "execution_count": 14,
   "id": "e10a2e90",
   "metadata": {},
   "outputs": [
    {
     "data": {
      "image/png": "[encoded data removed]",
      "text/plain": [
       "<Figure size 1000x600 with 1 Axes>"
      ]
     },
     "metadata": {},
     "output_type": "display_data"
    },
    {
     "name": "stdout",
     "output_type": "stream",
     "text": [
      "Event Length Statistics:\n",
      "count    7785.000000\n",
      "mean       12.132306\n",
      "std        62.682727\n",
      "min         1.000000\n",
      "25%         1.000000\n",
      "50%         1.000000\n",
      "75%         5.000000\n",
      "max      2322.000000\n",
      "Name: Event_Count, dtype: float64\n"
     ]
    }
   ],
   "source": [
    "event_lengths = df.groupby('Session_ID')['Event'].count().reset_index()\n",
    "event_lengths.columns = ['Session_ID', 'Event_Count']\n",
    "\n",
    "# Histogram\n",
    "plt.figure(figsize=(10, 6))\n",
    "sns.histplot(data=event_lengths, x='Event_Count', bins=20, kde=True)\n",
    "plt.title('Distribution of Events per Session')\n",
    "plt.xlabel('Number of Events')\n",
    "plt.ylabel('Number of Sessions')\n",
    "plt.savefig(r'E:\\Major Project\\User behaviour analysis using server logs\\reports\\event_length_distribution.png')\n",
    "plt.show()\n",
    "\n",
    "# Statistics\n",
    "length_stats = event_lengths['Event_Count'].describe()\n",
    "print(\"Event Length Statistics:\")\n",
    "print(length_stats)"
   ]
  },
  {
   "cell_type": "markdown",
   "id": "9d782475",
   "metadata": {},
   "source": [
    "### Correlation Between Duration and Conversion"
   ]
  },
  {
   "cell_type": "code",
   "execution_count": 15,
   "id": "d340e6b5",
   "metadata": {},
   "outputs": [
    {
     "data": {
      "image/png": "[encoded data removed]",
      "text/plain": [
       "<Figure size 800x600 with 1 Axes>"
      ]
     },
     "metadata": {},
     "output_type": "display_data"
    },
    {
     "name": "stdout",
     "output_type": "stream",
     "text": [
      "Correlation between Duration and Conversion:\n",
      "0.05712400794617279\n"
     ]
    }
   ],
   "source": [
    "# Identify sessions with Add_to_Cart\n",
    "has_add_to_cart = df[df['Event'] == 'Add_to_Cart']['Session_ID'].unique()\n",
    "session_duration['Has_Conversion'] = session_duration['Session_ID'].isin(has_add_to_cart).astype(int)\n",
    "\n",
    "# Scatter plot\n",
    "plt.figure(figsize=(8, 6))\n",
    "sns.scatterplot(data=session_duration, x='Duration_Minutes', y='Has_Conversion', alpha=0.5)\n",
    "plt.title('Session Duration vs. Conversion (1 = Yes, 0 = No)')\n",
    "plt.xlabel('Duration (Minutes)')\n",
    "plt.ylabel('Conversion (1/0)')\n",
    "plt.savefig(r'E:\\Major Project\\User behaviour analysis using server logs\\reports\\duration_vs_conversion.png')\n",
    "plt.show()\n",
    "\n",
    "# Correlation\n",
    "correlation = session_duration['Duration_Minutes'].corr(session_duration['Has_Conversion'])\n",
    "print(\"Correlation between Duration and Conversion:\")\n",
    "print(correlation)"
   ]
  },
  {
   "cell_type": "markdown",
   "id": "0cff7517",
   "metadata": {},
   "source": [
    "### Event Distribution by Category"
   ]
  },
  {
   "cell_type": "code",
   "execution_count": null,
   "id": "52370fd0",
   "metadata": {},
   "outputs": [],
   "source": [
    "# Count events by category\n",
    "event_counts = df['Event'].value_counts()\n",
    "\n",
    "# Bar plot\n",
    "plt.figure(figsize=(8, 6))\n",
    "event_counts.plot(kind='bar', color='skyblue')\n",
    "plt.title('Event Distribution in E-Commerce Sessions')\n",
    "plt.xlabel('Event Type')\n",
    "plt.ylabel('Count')\n",
    "plt.xticks(rotation=45)\n",
    "plt.tight_layout()\n",
    "plt.savefig(r'E:\\Major Project\\User behaviour analysis using server logs\\reports\\event_distribution.png')\n",
    "plt.show()"
   ]
  },
  {
   "cell_type": "code",
   "execution_count": 17,
   "id": "5bd622da",
   "metadata": {},
   "outputs": [
    {
     "data": {
      "text/markdown": [
       "\n",
       "# Exploratory Data Analysis Report\n",
       "\n",
       "## Overview\n",
       "This EDA analyzes `event_logs.csv` (7,785 sessions, 94,450 events) from Stanford Dataverse to uncover patterns in e-commerce user behavior.\n",
       "\n",
       "## Key Findings\n",
       "- **Session Duration**: The histogram (`session_duration_histogram.png`) shows a median duration of 0.00 minutes, with most sessions under 5 minutes, indicating many brief interactions.\n",
       "- **Event Length**: The distribution (`event_length_distribution.png`) confirms an average of 12.13 events per session, with some outliers (e.g., `3560PL_6` with 106 events).\n",
       "- **Duration vs. Conversion**: The scatter plot (`duration_vs_conversion.png`) and correlation (e.g., ~0.1) suggest longer sessions slightly increase conversion likelihood.\n",
       "- **Event Distribution**: The bar plot (`event_distribution.png`) highlights `Info_Page_View` dominance (56.9%, 53,702 events), with low `Add_to_Cart` (1.8%, 1,672 events).\n",
       "\n",
       "## Implications for Application\n",
       "- **Funnel Optimization**: The low conversion rate (3.43%) and 97.5% `Product_View` violation rate (LTL finding) suggest a need for re-engagement (e.g., pop-up discounts after 5 minutes).\n",
       "- **Anomaly Detection**: `3560PL_6`’s 106 events (53 consecutive `Add_to_Cart` pairs) may indicate a script error; filter sessions with >50 `Add_to_Cart` events.\n",
       "- **Engagement Strategy**: High `Info_Page_View` usage and short durations suggest personalized content to retain users.\n",
       "\n"
      ],
      "text/plain": [
       "<IPython.core.display.Markdown object>"
      ]
     },
     "metadata": {},
     "output_type": "display_data"
    }
   ],
   "source": [
    "#Markdown Summary and Insights\n",
    "from IPython.display import Markdown, display\n",
    "\n",
    "display(Markdown(\"\"\"\n",
    "# Exploratory Data Analysis Report\n",
    "\n",
    "## Overview\n",
    "This EDA analyzes `event_logs.csv` (7,785 sessions, 94,450 events) from Stanford Dataverse to uncover patterns in e-commerce user behavior.\n",
    "\n",
    "## Key Findings\n",
    "- **Session Duration**: The histogram (`session_duration_histogram.png`) shows a median duration of 0.00 minutes, with most sessions under 5 minutes, indicating many brief interactions.\n",
    "- **Event Length**: The distribution (`event_length_distribution.png`) confirms an average of 12.13 events per session, with some outliers (e.g., `3560PL_6` with 106 events).\n",
    "- **Duration vs. Conversion**: The scatter plot (`duration_vs_conversion.png`) and correlation (e.g., ~0.1) suggest longer sessions slightly increase conversion likelihood.\n",
    "- **Event Distribution**: The bar plot (`event_distribution.png`) highlights `Info_Page_View` dominance (56.9%, 53,702 events), with low `Add_to_Cart` (1.8%, 1,672 events).\n",
    "\n",
    "## Implications for Application\n",
    "- **Funnel Optimization**: The low conversion rate (3.43%) and 97.5% `Product_View` violation rate (LTL finding) suggest a need for re-engagement (e.g., pop-up discounts after 5 minutes).\n",
    "- **Anomaly Detection**: `3560PL_6`’s 106 events (53 consecutive `Add_to_Cart` pairs) may indicate a script error; filter sessions with >50 `Add_to_Cart` events.\n",
    "- **Engagement Strategy**: High `Info_Page_View` usage and short durations suggest personalized content to retain users.\n",
    "\n",
    "\"\"\"))"
   ]
  },
  {
   "cell_type": "code",
   "execution_count": 18,
   "id": "a8fe073f",
   "metadata": {},
   "outputs": [
    {
     "name": "stdout",
     "output_type": "stream",
     "text": [
      "EDA complete! Check saved files: session_duration_histogram.png, event_length_distribution.png, duration_vs_conversion.png, event_distribution.png, session_duration.csv, event_lengths.csv\n"
     ]
    }
   ],
   "source": [
    "# Save Notebook and Export Findings\n",
    "# Save the notebook\n",
    "# (Automatically saved as eda_analysis.ipynb)\n",
    "\n",
    "# Export charts and data (already saved as .png)\n",
    "# Optionally export session data\n",
    "session_duration.to_csv(r'E:\\Major Project\\User behaviour analysis using server logs\\notebooks\\session_duration.csv', index=False)\n",
    "event_lengths.to_csv(r'E:\\Major Project\\User behaviour analysis using server logs\\notebooks\\event_lengths.csv', index=False)\n",
    "\n",
    "print(\"EDA complete! Check saved files: session_duration_histogram.png, event_length_distribution.png, duration_vs_conversion.png, event_distribution.png, session_duration.csv, event_lengths.csv\")"
   ]
  }
 ],
 "metadata": {
  "kernelspec": {
   "display_name": "Python (myprojectenv)",
   "language": "python",
   "name": "myprojectenv"
  },
  "language_info": {
   "codemirror_mode": {
    "name": "ipython",
    "version": 3
   },
   "file_extension": ".py",
   "mimetype": "text/x-python",
   "name": "python",
   "nbconvert_exporter": "python",
   "pygments_lexer": "ipython3",
   "version": "3.11.4"
  }
 },
 "nbformat": 4,
 "nbformat_minor": 5
}
